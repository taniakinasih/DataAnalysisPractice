{
 "cells": [
  {
   "cell_type": "markdown",
   "id": "23fe9a51-7590-42de-bbcf-6a339c4908da",
   "metadata": {},
   "source": [
    "\n",
    "\n",
    "# <span style=\"color: blue;\">Analysis of Factors Affecting PM2.5 Concentration in Beijing, China (2010–2014)</span>"
   ]
  },
  {
   "cell_type": "markdown",
   "id": "1c8be284-c8ed-442e-ae7e-ccba737334be",
   "metadata": {},
   "source": [
    "## Overview:\n",
    "\n",
    "- **Name: Tania Wening Nur Kinasih**\n",
    "- **Student number: 0490373099**"
   ]
  },
  {
   "cell_type": "markdown",
   "id": "34edaec1-d5fb-46ed-904e-a6f6b8647154",
   "metadata": {},
   "source": [
    "## Pupose:\n",
    "\n",
    "- The purpose of this Final Project is to analyze the meteorological factors that influence the concentration of Particulate Matter (PM 2.5) in Beijing between 2010 and 2014. The detailed purpose of this Final Project are explained as follows:\n",
    "  1. PM2.5 concentrations will be examined in relation to weather and temporal factors to identify patterns and correlations.\n",
    "  2. Compute adjusted PM2.5 concentrations, where the effects of meteorological conditions are statistically removed to allow fairer comparisons across different time periods and events.\n",
    "\n",
    "- The **dependent vaiable (DV)** is the PM2.5 concentration (in µg/m³) measured hourly  \n",
    "- The **independent variables (IVs)** are:\n",
    "  1. Dew Point (DEWP, in °C)\n",
    "  2. Temperature (TEMP, in °C)\n",
    "  3. Pressure (PRES, in hPa\n",
    "  4. Combined Wind Direction, (CBWD, in categorial)\n",
    "  5. Cumulated Wind Speed (lws, in m/s)\n",
    "  6. Cumulated Hours of Snow (ls)\n",
    "  7. Cumulated Hours of Rain (lr)\n",
    "  8. Year, Month, Day (temporal factors)\n",
    "- The dataset contains over 43,824 hourly records of meteorological and air quality measurements from January 2010 to December 2014.\n"
   ]
  },
  {
   "cell_type": "markdown",
   "id": "3053ae02-328b-42ad-b8eb-4a01f2050356",
   "metadata": {},
   "source": [
    "## Dataset source:\n",
    "\n",
    "The data comes from the [Beijing PM2.5](https://archive.ics.uci.edu/dataset/381/beijing+pm2+5+data) dataset from [UCI Machine Learning](https://archive.ics.uci.edu/).\n",
    "\n",
    "The data are available for download [here](https://archive.ics.uci.edu/static/public/381/beijing+pm2+5+data.zip).\n",
    "\n",
    "Analyses of this dataset have been published previously in Liang et al. (2015)."
   ]
  },
  {
   "cell_type": "markdown",
   "id": "dc3c69ee-4f07-41b4-b46b-5590126471a6",
   "metadata": {},
   "source": [
    "### References:\n",
    "\n",
    "Liang, X., Zou, T., Guo, B., Li, S., Zhang, H., Zhang, S., Huang, H., & Chen, S. X. (2015). Assessing Beijing’s PM 2.5 pollution: severity, weather impact, APEC and winter heating. Proceedings of the Royal Society a Mathematical Physical and Engineering Sciences, 471(2182), 20150257. https://doi.org/10.1098/rspa.2015.0257"
   ]
  }
 ],
 "metadata": {
  "kernelspec": {
   "display_name": "Python [conda env:base] *",
   "language": "python",
   "name": "conda-base-py"
  },
  "language_info": {
   "codemirror_mode": {
    "name": "ipython",
    "version": 3
   },
   "file_extension": ".py",
   "mimetype": "text/x-python",
   "name": "python",
   "nbconvert_exporter": "python",
   "pygments_lexer": "ipython3",
   "version": "3.13.5"
  }
 },
 "nbformat": 4,
 "nbformat_minor": 5
}
